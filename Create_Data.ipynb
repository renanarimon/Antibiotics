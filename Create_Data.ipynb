{
 "cells": [
  {
   "cell_type": "code",
   "execution_count": 107,
   "metadata": {
    "collapsed": true,
    "pycharm": {
     "name": "#%%\n"
    }
   },
   "outputs": [],
   "source": [
    "import pandas as pd"
   ]
  },
  {
   "cell_type": "code",
   "execution_count": 108,
   "outputs": [
    {
     "data": {
      "text/plain": "          #Organism group         Isolate  \\\n0  Listeria monocytogenes  PDT000077416.3   \n1  Listeria monocytogenes  PDT000095192.3   \n2     Salmonella enterica  PDT000003687.3   \n3     Salmonella enterica  PDT000003688.4   \n4     Salmonella enterica  PDT000003689.4   \n5     Salmonella enterica  PDT000003690.3   \n6     Salmonella enterica  PDT000003691.3   \n7     Salmonella enterica  PDT000003692.3   \n8     Salmonella enterica  PDT000003693.3   \n9     Salmonella enterica  PDT000003694.4   \n\n                                       AMR genotypes  \\\n0                         fosX=COMPLETE,lin=COMPLETE   \n1                         fosX=COMPLETE,lin=COMPLETE   \n2                        mdsA=COMPLETE,mdsB=COMPLETE   \n3                        mdsA=COMPLETE,mdsB=COMPLETE   \n4                        mdsA=COMPLETE,mdsB=COMPLETE   \n5  aph(3'')-Ib=COMPLETE,aph(6)-Id=COMPLETE,mdsA=C...   \n6        mdsA=COMPLETE,mdsB=COMPLETE,tet(B)=COMPLETE   \n7                        mdsA=COMPLETE,mdsB=COMPLETE   \n8  aph(3'')-Ib=COMPLETE,aph(6)-Id=COMPLETE,mdsA=C...   \n9         fosA7=COMPLETE,mdsA=COMPLETE,mdsB=COMPLETE   \n\n                                      AST phenotypes  \n0  chloramphenicol=S,clindamycin=R,erythromycin=S...  \n1                          ampicillin=S,penicillin=S  \n2  amikacin=S,amoxicillin-clavulanic acid=S,ampic...  \n3  amikacin=S,amoxicillin-clavulanic acid=S,ampic...  \n4  amikacin=S,amoxicillin-clavulanic acid=S,ampic...  \n5  amikacin=S,amoxicillin-clavulanic acid=S,ampic...  \n6  amikacin=S,amoxicillin-clavulanic acid=S,ampic...  \n7  amikacin=S,amoxicillin-clavulanic acid=S,ampic...  \n8  amikacin=S,amoxicillin-clavulanic acid=S,ampic...  \n9  amikacin=S,amoxicillin-clavulanic acid=S,ampic...  ",
      "text/html": "<div>\n<style scoped>\n    .dataframe tbody tr th:only-of-type {\n        vertical-align: middle;\n    }\n\n    .dataframe tbody tr th {\n        vertical-align: top;\n    }\n\n    .dataframe thead th {\n        text-align: right;\n    }\n</style>\n<table border=\"1\" class=\"dataframe\">\n  <thead>\n    <tr style=\"text-align: right;\">\n      <th></th>\n      <th>#Organism group</th>\n      <th>Isolate</th>\n      <th>AMR genotypes</th>\n      <th>AST phenotypes</th>\n    </tr>\n  </thead>\n  <tbody>\n    <tr>\n      <th>0</th>\n      <td>Listeria monocytogenes</td>\n      <td>PDT000077416.3</td>\n      <td>fosX=COMPLETE,lin=COMPLETE</td>\n      <td>chloramphenicol=S,clindamycin=R,erythromycin=S...</td>\n    </tr>\n    <tr>\n      <th>1</th>\n      <td>Listeria monocytogenes</td>\n      <td>PDT000095192.3</td>\n      <td>fosX=COMPLETE,lin=COMPLETE</td>\n      <td>ampicillin=S,penicillin=S</td>\n    </tr>\n    <tr>\n      <th>2</th>\n      <td>Salmonella enterica</td>\n      <td>PDT000003687.3</td>\n      <td>mdsA=COMPLETE,mdsB=COMPLETE</td>\n      <td>amikacin=S,amoxicillin-clavulanic acid=S,ampic...</td>\n    </tr>\n    <tr>\n      <th>3</th>\n      <td>Salmonella enterica</td>\n      <td>PDT000003688.4</td>\n      <td>mdsA=COMPLETE,mdsB=COMPLETE</td>\n      <td>amikacin=S,amoxicillin-clavulanic acid=S,ampic...</td>\n    </tr>\n    <tr>\n      <th>4</th>\n      <td>Salmonella enterica</td>\n      <td>PDT000003689.4</td>\n      <td>mdsA=COMPLETE,mdsB=COMPLETE</td>\n      <td>amikacin=S,amoxicillin-clavulanic acid=S,ampic...</td>\n    </tr>\n    <tr>\n      <th>5</th>\n      <td>Salmonella enterica</td>\n      <td>PDT000003690.3</td>\n      <td>aph(3'')-Ib=COMPLETE,aph(6)-Id=COMPLETE,mdsA=C...</td>\n      <td>amikacin=S,amoxicillin-clavulanic acid=S,ampic...</td>\n    </tr>\n    <tr>\n      <th>6</th>\n      <td>Salmonella enterica</td>\n      <td>PDT000003691.3</td>\n      <td>mdsA=COMPLETE,mdsB=COMPLETE,tet(B)=COMPLETE</td>\n      <td>amikacin=S,amoxicillin-clavulanic acid=S,ampic...</td>\n    </tr>\n    <tr>\n      <th>7</th>\n      <td>Salmonella enterica</td>\n      <td>PDT000003692.3</td>\n      <td>mdsA=COMPLETE,mdsB=COMPLETE</td>\n      <td>amikacin=S,amoxicillin-clavulanic acid=S,ampic...</td>\n    </tr>\n    <tr>\n      <th>8</th>\n      <td>Salmonella enterica</td>\n      <td>PDT000003693.3</td>\n      <td>aph(3'')-Ib=COMPLETE,aph(6)-Id=COMPLETE,mdsA=C...</td>\n      <td>amikacin=S,amoxicillin-clavulanic acid=S,ampic...</td>\n    </tr>\n    <tr>\n      <th>9</th>\n      <td>Salmonella enterica</td>\n      <td>PDT000003694.4</td>\n      <td>fosA7=COMPLETE,mdsA=COMPLETE,mdsB=COMPLETE</td>\n      <td>amikacin=S,amoxicillin-clavulanic acid=S,ampic...</td>\n    </tr>\n  </tbody>\n</table>\n</div>"
     },
     "execution_count": 108,
     "metadata": {},
     "output_type": "execute_result"
    }
   ],
   "source": [
    "data = pd.read_csv(\"isolates.csv\")\n",
    "data.head(10)"
   ],
   "metadata": {
    "collapsed": false,
    "pycharm": {
     "name": "#%%\n"
    }
   }
  },
  {
   "cell_type": "code",
   "execution_count": 109,
   "outputs": [],
   "source": [
    "\n",
    "def transform_dataframe(df):\n",
    "    new_data = []\n",
    "\n",
    "    for idx, row in df.iterrows():\n",
    "        # split AMR genotypes and remove \"=COMPLETE\"\n",
    "        amr_genotypes = [i.split('=')[0] for i in row['AMR genotypes'].split(',')]\n",
    "\n",
    "        # split AST phenotypes\n",
    "        ast_phenotypes = row['AST phenotypes'].split(',')\n",
    "\n",
    "        # process each phenotype\n",
    "        for pheno in ast_phenotypes:\n",
    "            drug, resistance = pheno.split('=')\n",
    "            if resistance == 'R':\n",
    "                resistance_score = 1\n",
    "            elif resistance == 'S':\n",
    "                resistance_score = 0\n",
    "            else:  # assuming 'I' as per your description\n",
    "                resistance_score = 0.5\n",
    "\n",
    "            # create a new row\n",
    "            new_row = {'#Organism group': row['#Organism group'],\n",
    "                       'Isolate': row['Isolate'],\n",
    "                       'AMR genotypes': ', '.join(amr_genotypes),\n",
    "                       'drug': drug,\n",
    "                       'resistance': resistance_score}\n",
    "            new_data.append(new_row)\n",
    "\n",
    "    # create a new dataframe\n",
    "    new_df = pd.DataFrame(new_data)\n",
    "\n",
    "    return new_df\n"
   ],
   "metadata": {
    "collapsed": false,
    "pycharm": {
     "name": "#%%\n"
    }
   }
  },
  {
   "cell_type": "code",
   "execution_count": 110,
   "outputs": [],
   "source": [
    "new_dataframe = transform_dataframe(data)\n"
   ],
   "metadata": {
    "collapsed": false,
    "pycharm": {
     "name": "#%%\n"
    }
   }
  },
  {
   "cell_type": "code",
   "execution_count": 111,
   "outputs": [
    {
     "data": {
      "text/plain": "          #Organism group         Isolate AMR genotypes  \\\n0  Listeria monocytogenes  PDT000077416.3     fosX, lin   \n1  Listeria monocytogenes  PDT000077416.3     fosX, lin   \n2  Listeria monocytogenes  PDT000077416.3     fosX, lin   \n3  Listeria monocytogenes  PDT000077416.3     fosX, lin   \n4  Listeria monocytogenes  PDT000077416.3     fosX, lin   \n5  Listeria monocytogenes  PDT000077416.3     fosX, lin   \n6  Listeria monocytogenes  PDT000077416.3     fosX, lin   \n7  Listeria monocytogenes  PDT000077416.3     fosX, lin   \n8  Listeria monocytogenes  PDT000077416.3     fosX, lin   \n9  Listeria monocytogenes  PDT000077416.3     fosX, lin   \n\n                            drug  resistance  \n0                chloramphenicol         0.0  \n1                    clindamycin         1.0  \n2                   erythromycin         0.0  \n3                     gentamicin         0.0  \n4                   levofloxacin         0.0  \n5                      oxacillin         1.0  \n6                     penicillin         0.0  \n7                       rifampin         0.0  \n8                   tetracycline         0.0  \n9  trimethoprim-sulfamethoxazole         0.0  ",
      "text/html": "<div>\n<style scoped>\n    .dataframe tbody tr th:only-of-type {\n        vertical-align: middle;\n    }\n\n    .dataframe tbody tr th {\n        vertical-align: top;\n    }\n\n    .dataframe thead th {\n        text-align: right;\n    }\n</style>\n<table border=\"1\" class=\"dataframe\">\n  <thead>\n    <tr style=\"text-align: right;\">\n      <th></th>\n      <th>#Organism group</th>\n      <th>Isolate</th>\n      <th>AMR genotypes</th>\n      <th>drug</th>\n      <th>resistance</th>\n    </tr>\n  </thead>\n  <tbody>\n    <tr>\n      <th>0</th>\n      <td>Listeria monocytogenes</td>\n      <td>PDT000077416.3</td>\n      <td>fosX, lin</td>\n      <td>chloramphenicol</td>\n      <td>0.0</td>\n    </tr>\n    <tr>\n      <th>1</th>\n      <td>Listeria monocytogenes</td>\n      <td>PDT000077416.3</td>\n      <td>fosX, lin</td>\n      <td>clindamycin</td>\n      <td>1.0</td>\n    </tr>\n    <tr>\n      <th>2</th>\n      <td>Listeria monocytogenes</td>\n      <td>PDT000077416.3</td>\n      <td>fosX, lin</td>\n      <td>erythromycin</td>\n      <td>0.0</td>\n    </tr>\n    <tr>\n      <th>3</th>\n      <td>Listeria monocytogenes</td>\n      <td>PDT000077416.3</td>\n      <td>fosX, lin</td>\n      <td>gentamicin</td>\n      <td>0.0</td>\n    </tr>\n    <tr>\n      <th>4</th>\n      <td>Listeria monocytogenes</td>\n      <td>PDT000077416.3</td>\n      <td>fosX, lin</td>\n      <td>levofloxacin</td>\n      <td>0.0</td>\n    </tr>\n    <tr>\n      <th>5</th>\n      <td>Listeria monocytogenes</td>\n      <td>PDT000077416.3</td>\n      <td>fosX, lin</td>\n      <td>oxacillin</td>\n      <td>1.0</td>\n    </tr>\n    <tr>\n      <th>6</th>\n      <td>Listeria monocytogenes</td>\n      <td>PDT000077416.3</td>\n      <td>fosX, lin</td>\n      <td>penicillin</td>\n      <td>0.0</td>\n    </tr>\n    <tr>\n      <th>7</th>\n      <td>Listeria monocytogenes</td>\n      <td>PDT000077416.3</td>\n      <td>fosX, lin</td>\n      <td>rifampin</td>\n      <td>0.0</td>\n    </tr>\n    <tr>\n      <th>8</th>\n      <td>Listeria monocytogenes</td>\n      <td>PDT000077416.3</td>\n      <td>fosX, lin</td>\n      <td>tetracycline</td>\n      <td>0.0</td>\n    </tr>\n    <tr>\n      <th>9</th>\n      <td>Listeria monocytogenes</td>\n      <td>PDT000077416.3</td>\n      <td>fosX, lin</td>\n      <td>trimethoprim-sulfamethoxazole</td>\n      <td>0.0</td>\n    </tr>\n  </tbody>\n</table>\n</div>"
     },
     "execution_count": 111,
     "metadata": {},
     "output_type": "execute_result"
    }
   ],
   "source": [
    "new_dataframe.head(10)"
   ],
   "metadata": {
    "collapsed": false,
    "pycharm": {
     "name": "#%%\n"
    }
   }
  },
  {
   "cell_type": "code",
   "execution_count": 112,
   "outputs": [
    {
     "data": {
      "text/plain": "(316071, 5)"
     },
     "execution_count": 112,
     "metadata": {},
     "output_type": "execute_result"
    }
   ],
   "source": [
    "new_dataframe.shape"
   ],
   "metadata": {
    "collapsed": false,
    "pycharm": {
     "name": "#%%\n"
    }
   }
  },
  {
   "cell_type": "code",
   "execution_count": 113,
   "outputs": [],
   "source": [
    "new_dataframe.to_csv(\"BasicData.csv\",index=False)"
   ],
   "metadata": {
    "collapsed": false,
    "pycharm": {
     "name": "#%%\n"
    }
   }
  },
  {
   "cell_type": "code",
   "execution_count": 114,
   "outputs": [
    {
     "name": "stdout",
     "output_type": "stream",
     "text": [
      "Number of unique genotypes: 1213\n"
     ]
    }
   ],
   "source": [
    "def count_unique_genotypes(df):\n",
    "    unique_genotypes = set()\n",
    "\n",
    "    for idx, row in df.iterrows():\n",
    "        genotypes = row['AMR genotypes'].split(', ')\n",
    "        unique_genotypes.update(genotypes)\n",
    "\n",
    "    return len(unique_genotypes)\n",
    "unique_genotype_count = count_unique_genotypes(new_dataframe)\n",
    "print(\"Number of unique genotypes:\", unique_genotype_count)"
   ],
   "metadata": {
    "collapsed": false,
    "pycharm": {
     "name": "#%%\n"
    }
   }
  },
  {
   "cell_type": "code",
   "execution_count": 118,
   "outputs": [],
   "source": [
    "def gene_per_drug(drug, df):\n",
    "    drug_df = df[df['drug'] == drug]\n",
    "    unique_genes = set()\n",
    "    for genes in drug_df['AMR genotypes'].str.split(', '):\n",
    "        unique_genes.update(genes)\n",
    "    return drug_df, unique_genes"
   ],
   "metadata": {
    "collapsed": false,
    "pycharm": {
     "name": "#%%\n"
    }
   }
  },
  {
   "cell_type": "code",
   "execution_count": 126,
   "outputs": [],
   "source": [
    "import numpy as np\n",
    "\n",
    "def gene_1_hot_encoder(df, unique_genes):\n",
    "    df['Gene Array'] = None\n",
    "    # Add the 'Count Ones' column to the DataFrame\n",
    "    df['Count Ones'] = None\n",
    "    for idx, row in df.iterrows():\n",
    "        gene_array = np.zeros(len(unique_genes), dtype=int)\n",
    "        genes = row['AMR genotypes'].split(', ')\n",
    "        for gene in genes:\n",
    "            # Find the index of each gene\n",
    "            gene_index = list(unique_genes).index(gene)\n",
    "            # Set the corresponding index in the array to 1\n",
    "            gene_array[gene_index] = 1\n",
    "\n",
    "        # Add the gene array as a new column to the current row in the DataFrame\n",
    "        df.at[idx, 'Gene Array'] = gene_array.tolist()\n",
    "\n",
    "        # Count the number of '1' values in the gene_array\n",
    "        count_ones = np.count_nonzero(gene_array)\n",
    "\n",
    "        # Add the count as a new column to the current row in the DataFrame\n",
    "        df.at[idx, 'Count Ones'] = count_ones\n",
    "\n",
    "    return df.reset_index()"
   ],
   "metadata": {
    "collapsed": false,
    "pycharm": {
     "name": "#%%\n"
    }
   }
  },
  {
   "cell_type": "code",
   "execution_count": 127,
   "outputs": [],
   "source": [
    "oxacillin_df,oxacillin_genes =   gene_per_drug('oxacillin', new_dataframe)"
   ],
   "metadata": {
    "collapsed": false,
    "pycharm": {
     "name": "#%%\n"
    }
   }
  },
  {
   "cell_type": "code",
   "execution_count": 128,
   "outputs": [
    {
     "name": "stderr",
     "output_type": "stream",
     "text": [
      "<ipython-input-126-ce8e11fd0130>:4: SettingWithCopyWarning: \n",
      "A value is trying to be set on a copy of a slice from a DataFrame.\n",
      "Try using .loc[row_indexer,col_indexer] = value instead\n",
      "\n",
      "See the caveats in the documentation: https://pandas.pydata.org/pandas-docs/stable/user_guide/indexing.html#returning-a-view-versus-a-copy\n",
      "  df['Gene Array'] = None\n",
      "<ipython-input-126-ce8e11fd0130>:6: SettingWithCopyWarning: \n",
      "A value is trying to be set on a copy of a slice from a DataFrame.\n",
      "Try using .loc[row_indexer,col_indexer] = value instead\n",
      "\n",
      "See the caveats in the documentation: https://pandas.pydata.org/pandas-docs/stable/user_guide/indexing.html#returning-a-view-versus-a-copy\n",
      "  df['Count Ones'] = None\n"
     ]
    },
    {
     "data": {
      "text/plain": "                     #Organism group         Isolate  \\\n5             Listeria monocytogenes  PDT000077416.3   \n202266           E.coli and Shigella  PDT001126241.1   \n202279           E.coli and Shigella  PDT001126242.1   \n202292           E.coli and Shigella  PDT001126243.1   \n233973           E.coli and Shigella  PDT001398459.1   \n...                              ...             ...   \n310860         Staphylococcus aureus  PDT001785232.1   \n314382      Streptococcus pneumoniae  PDT001128122.1   \n314420       Pluralibacter gergoviae  PDT001767548.1   \n314504  Stenotrophomonas maltophilia  PDT001398931.1   \n314545  Burkholderia cepacia complex  PDT001128216.2   \n\n                                            AMR genotypes       drug  \\\n5                                               fosX, lin  oxacillin   \n202266  acrF, aph(3'')-Ib, aph(6)-Id, blaCTX-M-55, bla...  oxacillin   \n202279  aac(3)-IIe, aac(6')-Ib-cr5, aadA5, acrF, blaCT...  oxacillin   \n202292  aadA5, acrF, blaEC, blaTEM-1, catA1, cyaA_S352...  oxacillin   \n233973  acrF, blaCTX-M-27, blaEC, glpT_E448K, gyrA_D87...  oxacillin   \n...                                                   ...        ...   \n310860  abc-f, erm(C), fosB, gyrA_S84L, mecA, mecR1, m...  oxacillin   \n314382                                 pbp2b, pbp2x, pmrA  oxacillin   \n314420  aac(6')-Ib-cr5, aac(6')-Ib, aadA1, aph(3')-VI,...  oxacillin   \n314504  aph(3')-IIc, aph(6), arr, blaL1, blaL2, emrA, ...  oxacillin   \n314545                ant(3''), arr, bla, blaPEN-bcc, cml  oxacillin   \n\n        resistance                                         Gene Array  \\\n5              1.0  [0, 0, 0, 0, 0, 0, 0, 0, 0, 0, 0, 0, 0, 0, 0, ...   \n202266         1.0  [0, 0, 0, 0, 0, 0, 0, 0, 0, 0, 0, 1, 0, 0, 0, ...   \n202279         1.0  [0, 0, 0, 0, 0, 0, 0, 0, 0, 0, 0, 1, 0, 0, 0, ...   \n202292         1.0  [0, 0, 0, 0, 0, 0, 0, 0, 0, 0, 0, 0, 0, 0, 0, ...   \n233973         1.0  [0, 0, 0, 0, 0, 0, 0, 0, 0, 0, 0, 1, 0, 0, 0, ...   \n...            ...                                                ...   \n310860         1.0  [0, 1, 0, 1, 0, 0, 0, 0, 0, 0, 1, 0, 0, 1, 0, ...   \n314382         1.0  [0, 0, 0, 0, 0, 0, 0, 0, 0, 0, 0, 0, 0, 0, 0, ...   \n314420         0.0  [0, 0, 0, 0, 0, 0, 0, 0, 0, 0, 0, 0, 0, 0, 0, ...   \n314504         1.0  [0, 0, 0, 0, 0, 0, 0, 0, 0, 0, 0, 0, 0, 0, 0, ...   \n314545         1.0  [0, 0, 0, 0, 0, 0, 0, 0, 0, 0, 0, 0, 0, 0, 0, ...   \n\n       Count Ones  \n5               2  \n202266         17  \n202279         22  \n202292         12  \n233973         13  \n...           ...  \n310860         11  \n314382          3  \n314420         25  \n314504          9  \n314545          5  \n\n[648 rows x 7 columns]",
      "text/html": "<div>\n<style scoped>\n    .dataframe tbody tr th:only-of-type {\n        vertical-align: middle;\n    }\n\n    .dataframe tbody tr th {\n        vertical-align: top;\n    }\n\n    .dataframe thead th {\n        text-align: right;\n    }\n</style>\n<table border=\"1\" class=\"dataframe\">\n  <thead>\n    <tr style=\"text-align: right;\">\n      <th></th>\n      <th>#Organism group</th>\n      <th>Isolate</th>\n      <th>AMR genotypes</th>\n      <th>drug</th>\n      <th>resistance</th>\n      <th>Gene Array</th>\n      <th>Count Ones</th>\n    </tr>\n  </thead>\n  <tbody>\n    <tr>\n      <th>5</th>\n      <td>Listeria monocytogenes</td>\n      <td>PDT000077416.3</td>\n      <td>fosX, lin</td>\n      <td>oxacillin</td>\n      <td>1.0</td>\n      <td>[0, 0, 0, 0, 0, 0, 0, 0, 0, 0, 0, 0, 0, 0, 0, ...</td>\n      <td>2</td>\n    </tr>\n    <tr>\n      <th>202266</th>\n      <td>E.coli and Shigella</td>\n      <td>PDT001126241.1</td>\n      <td>acrF, aph(3'')-Ib, aph(6)-Id, blaCTX-M-55, bla...</td>\n      <td>oxacillin</td>\n      <td>1.0</td>\n      <td>[0, 0, 0, 0, 0, 0, 0, 0, 0, 0, 0, 1, 0, 0, 0, ...</td>\n      <td>17</td>\n    </tr>\n    <tr>\n      <th>202279</th>\n      <td>E.coli and Shigella</td>\n      <td>PDT001126242.1</td>\n      <td>aac(3)-IIe, aac(6')-Ib-cr5, aadA5, acrF, blaCT...</td>\n      <td>oxacillin</td>\n      <td>1.0</td>\n      <td>[0, 0, 0, 0, 0, 0, 0, 0, 0, 0, 0, 1, 0, 0, 0, ...</td>\n      <td>22</td>\n    </tr>\n    <tr>\n      <th>202292</th>\n      <td>E.coli and Shigella</td>\n      <td>PDT001126243.1</td>\n      <td>aadA5, acrF, blaEC, blaTEM-1, catA1, cyaA_S352...</td>\n      <td>oxacillin</td>\n      <td>1.0</td>\n      <td>[0, 0, 0, 0, 0, 0, 0, 0, 0, 0, 0, 0, 0, 0, 0, ...</td>\n      <td>12</td>\n    </tr>\n    <tr>\n      <th>233973</th>\n      <td>E.coli and Shigella</td>\n      <td>PDT001398459.1</td>\n      <td>acrF, blaCTX-M-27, blaEC, glpT_E448K, gyrA_D87...</td>\n      <td>oxacillin</td>\n      <td>1.0</td>\n      <td>[0, 0, 0, 0, 0, 0, 0, 0, 0, 0, 0, 1, 0, 0, 0, ...</td>\n      <td>13</td>\n    </tr>\n    <tr>\n      <th>...</th>\n      <td>...</td>\n      <td>...</td>\n      <td>...</td>\n      <td>...</td>\n      <td>...</td>\n      <td>...</td>\n      <td>...</td>\n    </tr>\n    <tr>\n      <th>310860</th>\n      <td>Staphylococcus aureus</td>\n      <td>PDT001785232.1</td>\n      <td>abc-f, erm(C), fosB, gyrA_S84L, mecA, mecR1, m...</td>\n      <td>oxacillin</td>\n      <td>1.0</td>\n      <td>[0, 1, 0, 1, 0, 0, 0, 0, 0, 0, 1, 0, 0, 1, 0, ...</td>\n      <td>11</td>\n    </tr>\n    <tr>\n      <th>314382</th>\n      <td>Streptococcus pneumoniae</td>\n      <td>PDT001128122.1</td>\n      <td>pbp2b, pbp2x, pmrA</td>\n      <td>oxacillin</td>\n      <td>1.0</td>\n      <td>[0, 0, 0, 0, 0, 0, 0, 0, 0, 0, 0, 0, 0, 0, 0, ...</td>\n      <td>3</td>\n    </tr>\n    <tr>\n      <th>314420</th>\n      <td>Pluralibacter gergoviae</td>\n      <td>PDT001767548.1</td>\n      <td>aac(6')-Ib-cr5, aac(6')-Ib, aadA1, aph(3')-VI,...</td>\n      <td>oxacillin</td>\n      <td>0.0</td>\n      <td>[0, 0, 0, 0, 0, 0, 0, 0, 0, 0, 0, 0, 0, 0, 0, ...</td>\n      <td>25</td>\n    </tr>\n    <tr>\n      <th>314504</th>\n      <td>Stenotrophomonas maltophilia</td>\n      <td>PDT001398931.1</td>\n      <td>aph(3')-IIc, aph(6), arr, blaL1, blaL2, emrA, ...</td>\n      <td>oxacillin</td>\n      <td>1.0</td>\n      <td>[0, 0, 0, 0, 0, 0, 0, 0, 0, 0, 0, 0, 0, 0, 0, ...</td>\n      <td>9</td>\n    </tr>\n    <tr>\n      <th>314545</th>\n      <td>Burkholderia cepacia complex</td>\n      <td>PDT001128216.2</td>\n      <td>ant(3''), arr, bla, blaPEN-bcc, cml</td>\n      <td>oxacillin</td>\n      <td>1.0</td>\n      <td>[0, 0, 0, 0, 0, 0, 0, 0, 0, 0, 0, 0, 0, 0, 0, ...</td>\n      <td>5</td>\n    </tr>\n  </tbody>\n</table>\n<p>648 rows × 7 columns</p>\n</div>"
     },
     "execution_count": 128,
     "metadata": {},
     "output_type": "execute_result"
    }
   ],
   "source": [
    "gene_1_hot_encoder(oxacillin_df, oxacillin_genes)"
   ],
   "metadata": {
    "collapsed": false,
    "pycharm": {
     "name": "#%%\n"
    }
   }
  },
  {
   "cell_type": "code",
   "execution_count": 135,
   "outputs": [],
   "source": [
    "oxacillin_df= oxacillin_df.reset_index()"
   ],
   "metadata": {
    "collapsed": false,
    "pycharm": {
     "name": "#%%\n"
    }
   }
  },
  {
   "cell_type": "code",
   "execution_count": 144,
   "outputs": [
    {
     "name": "stdout",
     "output_type": "stream",
     "text": [
      "211\n"
     ]
    }
   ],
   "source": [
    "gene_array = oxacillin_df[oxacillin_df['Isolate'] == 'PDT001128216.2']['Gene Array'].values[0]\n",
    "length = len(gene_array)\n",
    "print(length)\n"
   ],
   "metadata": {
    "collapsed": false,
    "pycharm": {
     "name": "#%%\n"
    }
   }
  },
  {
   "cell_type": "code",
   "execution_count": null,
   "outputs": [],
   "source": [],
   "metadata": {
    "collapsed": false,
    "pycharm": {
     "name": "#%%\n"
    }
   }
  }
 ],
 "metadata": {
  "kernelspec": {
   "display_name": "Python 3",
   "language": "python",
   "name": "python3"
  },
  "language_info": {
   "codemirror_mode": {
    "name": "ipython",
    "version": 2
   },
   "file_extension": ".py",
   "mimetype": "text/x-python",
   "name": "python",
   "nbconvert_exporter": "python",
   "pygments_lexer": "ipython2",
   "version": "2.7.6"
  }
 },
 "nbformat": 4,
 "nbformat_minor": 0
}