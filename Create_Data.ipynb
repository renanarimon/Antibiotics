{
 "cells": [
  {
   "cell_type": "code",
   "execution_count": 2,
   "metadata": {
    "collapsed": true,
    "pycharm": {
     "name": "#%%\n"
    }
   },
   "outputs": [],
   "source": [
    "import pandas as pd"
   ]
  },
  {
   "cell_type": "code",
   "execution_count": 4,
   "outputs": [
    {
     "data": {
      "text/plain": "          #Organism group         Isolate  \\\n0  Listeria monocytogenes  PDT000077416.3   \n1  Listeria monocytogenes  PDT000095192.3   \n2     Salmonella enterica  PDT000003687.3   \n3     Salmonella enterica  PDT000003688.4   \n4     Salmonella enterica  PDT000003689.4   \n5     Salmonella enterica  PDT000003690.3   \n6     Salmonella enterica  PDT000003691.3   \n7     Salmonella enterica  PDT000003692.3   \n8     Salmonella enterica  PDT000003693.3   \n9     Salmonella enterica  PDT000003694.4   \n\n                                       AMR genotypes  \\\n0                         fosX=COMPLETE,lin=COMPLETE   \n1                         fosX=COMPLETE,lin=COMPLETE   \n2                        mdsA=COMPLETE,mdsB=COMPLETE   \n3                        mdsA=COMPLETE,mdsB=COMPLETE   \n4                        mdsA=COMPLETE,mdsB=COMPLETE   \n5  aph(3'')-Ib=COMPLETE,aph(6)-Id=COMPLETE,mdsA=C...   \n6        mdsA=COMPLETE,mdsB=COMPLETE,tet(B)=COMPLETE   \n7                        mdsA=COMPLETE,mdsB=COMPLETE   \n8  aph(3'')-Ib=COMPLETE,aph(6)-Id=COMPLETE,mdsA=C...   \n9         fosA7=COMPLETE,mdsA=COMPLETE,mdsB=COMPLETE   \n\n                                      AST phenotypes  \n0  chloramphenicol=S,clindamycin=R,erythromycin=S...  \n1                          ampicillin=S,penicillin=S  \n2  amikacin=S,amoxicillin-clavulanic acid=S,ampic...  \n3  amikacin=S,amoxicillin-clavulanic acid=S,ampic...  \n4  amikacin=S,amoxicillin-clavulanic acid=S,ampic...  \n5  amikacin=S,amoxicillin-clavulanic acid=S,ampic...  \n6  amikacin=S,amoxicillin-clavulanic acid=S,ampic...  \n7  amikacin=S,amoxicillin-clavulanic acid=S,ampic...  \n8  amikacin=S,amoxicillin-clavulanic acid=S,ampic...  \n9  amikacin=S,amoxicillin-clavulanic acid=S,ampic...  ",
      "text/html": "<div>\n<style scoped>\n    .dataframe tbody tr th:only-of-type {\n        vertical-align: middle;\n    }\n\n    .dataframe tbody tr th {\n        vertical-align: top;\n    }\n\n    .dataframe thead th {\n        text-align: right;\n    }\n</style>\n<table border=\"1\" class=\"dataframe\">\n  <thead>\n    <tr style=\"text-align: right;\">\n      <th></th>\n      <th>#Organism group</th>\n      <th>Isolate</th>\n      <th>AMR genotypes</th>\n      <th>AST phenotypes</th>\n    </tr>\n  </thead>\n  <tbody>\n    <tr>\n      <th>0</th>\n      <td>Listeria monocytogenes</td>\n      <td>PDT000077416.3</td>\n      <td>fosX=COMPLETE,lin=COMPLETE</td>\n      <td>chloramphenicol=S,clindamycin=R,erythromycin=S...</td>\n    </tr>\n    <tr>\n      <th>1</th>\n      <td>Listeria monocytogenes</td>\n      <td>PDT000095192.3</td>\n      <td>fosX=COMPLETE,lin=COMPLETE</td>\n      <td>ampicillin=S,penicillin=S</td>\n    </tr>\n    <tr>\n      <th>2</th>\n      <td>Salmonella enterica</td>\n      <td>PDT000003687.3</td>\n      <td>mdsA=COMPLETE,mdsB=COMPLETE</td>\n      <td>amikacin=S,amoxicillin-clavulanic acid=S,ampic...</td>\n    </tr>\n    <tr>\n      <th>3</th>\n      <td>Salmonella enterica</td>\n      <td>PDT000003688.4</td>\n      <td>mdsA=COMPLETE,mdsB=COMPLETE</td>\n      <td>amikacin=S,amoxicillin-clavulanic acid=S,ampic...</td>\n    </tr>\n    <tr>\n      <th>4</th>\n      <td>Salmonella enterica</td>\n      <td>PDT000003689.4</td>\n      <td>mdsA=COMPLETE,mdsB=COMPLETE</td>\n      <td>amikacin=S,amoxicillin-clavulanic acid=S,ampic...</td>\n    </tr>\n    <tr>\n      <th>5</th>\n      <td>Salmonella enterica</td>\n      <td>PDT000003690.3</td>\n      <td>aph(3'')-Ib=COMPLETE,aph(6)-Id=COMPLETE,mdsA=C...</td>\n      <td>amikacin=S,amoxicillin-clavulanic acid=S,ampic...</td>\n    </tr>\n    <tr>\n      <th>6</th>\n      <td>Salmonella enterica</td>\n      <td>PDT000003691.3</td>\n      <td>mdsA=COMPLETE,mdsB=COMPLETE,tet(B)=COMPLETE</td>\n      <td>amikacin=S,amoxicillin-clavulanic acid=S,ampic...</td>\n    </tr>\n    <tr>\n      <th>7</th>\n      <td>Salmonella enterica</td>\n      <td>PDT000003692.3</td>\n      <td>mdsA=COMPLETE,mdsB=COMPLETE</td>\n      <td>amikacin=S,amoxicillin-clavulanic acid=S,ampic...</td>\n    </tr>\n    <tr>\n      <th>8</th>\n      <td>Salmonella enterica</td>\n      <td>PDT000003693.3</td>\n      <td>aph(3'')-Ib=COMPLETE,aph(6)-Id=COMPLETE,mdsA=C...</td>\n      <td>amikacin=S,amoxicillin-clavulanic acid=S,ampic...</td>\n    </tr>\n    <tr>\n      <th>9</th>\n      <td>Salmonella enterica</td>\n      <td>PDT000003694.4</td>\n      <td>fosA7=COMPLETE,mdsA=COMPLETE,mdsB=COMPLETE</td>\n      <td>amikacin=S,amoxicillin-clavulanic acid=S,ampic...</td>\n    </tr>\n  </tbody>\n</table>\n</div>"
     },
     "execution_count": 4,
     "metadata": {},
     "output_type": "execute_result"
    }
   ],
   "source": [
    "data = pd.read_csv(\"isolates.csv\")\n",
    "data.head(10)"
   ],
   "metadata": {
    "collapsed": false,
    "pycharm": {
     "name": "#%%\n"
    }
   }
  },
  {
   "cell_type": "code",
   "execution_count": 5,
   "outputs": [],
   "source": [
    "\n",
    "def transform_dataframe(df):\n",
    "    new_data = []\n",
    "\n",
    "    for idx, row in df.iterrows():\n",
    "        # split AMR genotypes and remove \"=COMPLETE\"\n",
    "        amr_genotypes = [i.split('=')[0] for i in row['AMR genotypes'].split(',')]\n",
    "\n",
    "        # split AST phenotypes\n",
    "        ast_phenotypes = row['AST phenotypes'].split(',')\n",
    "\n",
    "        # process each phenotype\n",
    "        for pheno in ast_phenotypes:\n",
    "            drug, resistance = pheno.split('=')\n",
    "            if resistance == 'R':\n",
    "                resistance_score = 1\n",
    "            elif resistance == 'S':\n",
    "                resistance_score = 0\n",
    "            else:  # assuming 'I' as per your description\n",
    "                resistance_score = 0.5\n",
    "\n",
    "            # create a new row\n",
    "            new_row = {'#Organism group': row['#Organism group'],\n",
    "                       'Isolate': row['Isolate'],\n",
    "                       'AMR genotypes': ', '.join(amr_genotypes),\n",
    "                       'drug': drug,\n",
    "                       'resistance': resistance_score}\n",
    "            new_data.append(new_row)\n",
    "\n",
    "    # create a new dataframe\n",
    "    new_df = pd.DataFrame(new_data)\n",
    "\n",
    "    return new_df\n"
   ],
   "metadata": {
    "collapsed": false,
    "pycharm": {
     "name": "#%%\n"
    }
   }
  },
  {
   "cell_type": "code",
   "execution_count": 6,
   "outputs": [],
   "source": [
    "new_dataframe = transform_dataframe(data)\n"
   ],
   "metadata": {
    "collapsed": false,
    "pycharm": {
     "name": "#%%\n"
    }
   }
  },
  {
   "cell_type": "code",
   "execution_count": 7,
   "outputs": [
    {
     "data": {
      "text/plain": "          #Organism group         Isolate AMR genotypes  \\\n0  Listeria monocytogenes  PDT000077416.3     fosX, lin   \n1  Listeria monocytogenes  PDT000077416.3     fosX, lin   \n2  Listeria monocytogenes  PDT000077416.3     fosX, lin   \n3  Listeria monocytogenes  PDT000077416.3     fosX, lin   \n4  Listeria monocytogenes  PDT000077416.3     fosX, lin   \n5  Listeria monocytogenes  PDT000077416.3     fosX, lin   \n6  Listeria monocytogenes  PDT000077416.3     fosX, lin   \n7  Listeria monocytogenes  PDT000077416.3     fosX, lin   \n8  Listeria monocytogenes  PDT000077416.3     fosX, lin   \n9  Listeria monocytogenes  PDT000077416.3     fosX, lin   \n\n                            drug  resistance  \n0                chloramphenicol         0.0  \n1                    clindamycin         1.0  \n2                   erythromycin         0.0  \n3                     gentamicin         0.0  \n4                   levofloxacin         0.0  \n5                      oxacillin         1.0  \n6                     penicillin         0.0  \n7                       rifampin         0.0  \n8                   tetracycline         0.0  \n9  trimethoprim-sulfamethoxazole         0.0  ",
      "text/html": "<div>\n<style scoped>\n    .dataframe tbody tr th:only-of-type {\n        vertical-align: middle;\n    }\n\n    .dataframe tbody tr th {\n        vertical-align: top;\n    }\n\n    .dataframe thead th {\n        text-align: right;\n    }\n</style>\n<table border=\"1\" class=\"dataframe\">\n  <thead>\n    <tr style=\"text-align: right;\">\n      <th></th>\n      <th>#Organism group</th>\n      <th>Isolate</th>\n      <th>AMR genotypes</th>\n      <th>drug</th>\n      <th>resistance</th>\n    </tr>\n  </thead>\n  <tbody>\n    <tr>\n      <th>0</th>\n      <td>Listeria monocytogenes</td>\n      <td>PDT000077416.3</td>\n      <td>fosX, lin</td>\n      <td>chloramphenicol</td>\n      <td>0.0</td>\n    </tr>\n    <tr>\n      <th>1</th>\n      <td>Listeria monocytogenes</td>\n      <td>PDT000077416.3</td>\n      <td>fosX, lin</td>\n      <td>clindamycin</td>\n      <td>1.0</td>\n    </tr>\n    <tr>\n      <th>2</th>\n      <td>Listeria monocytogenes</td>\n      <td>PDT000077416.3</td>\n      <td>fosX, lin</td>\n      <td>erythromycin</td>\n      <td>0.0</td>\n    </tr>\n    <tr>\n      <th>3</th>\n      <td>Listeria monocytogenes</td>\n      <td>PDT000077416.3</td>\n      <td>fosX, lin</td>\n      <td>gentamicin</td>\n      <td>0.0</td>\n    </tr>\n    <tr>\n      <th>4</th>\n      <td>Listeria monocytogenes</td>\n      <td>PDT000077416.3</td>\n      <td>fosX, lin</td>\n      <td>levofloxacin</td>\n      <td>0.0</td>\n    </tr>\n    <tr>\n      <th>5</th>\n      <td>Listeria monocytogenes</td>\n      <td>PDT000077416.3</td>\n      <td>fosX, lin</td>\n      <td>oxacillin</td>\n      <td>1.0</td>\n    </tr>\n    <tr>\n      <th>6</th>\n      <td>Listeria monocytogenes</td>\n      <td>PDT000077416.3</td>\n      <td>fosX, lin</td>\n      <td>penicillin</td>\n      <td>0.0</td>\n    </tr>\n    <tr>\n      <th>7</th>\n      <td>Listeria monocytogenes</td>\n      <td>PDT000077416.3</td>\n      <td>fosX, lin</td>\n      <td>rifampin</td>\n      <td>0.0</td>\n    </tr>\n    <tr>\n      <th>8</th>\n      <td>Listeria monocytogenes</td>\n      <td>PDT000077416.3</td>\n      <td>fosX, lin</td>\n      <td>tetracycline</td>\n      <td>0.0</td>\n    </tr>\n    <tr>\n      <th>9</th>\n      <td>Listeria monocytogenes</td>\n      <td>PDT000077416.3</td>\n      <td>fosX, lin</td>\n      <td>trimethoprim-sulfamethoxazole</td>\n      <td>0.0</td>\n    </tr>\n  </tbody>\n</table>\n</div>"
     },
     "execution_count": 7,
     "metadata": {},
     "output_type": "execute_result"
    }
   ],
   "source": [
    "new_dataframe.head(10)"
   ],
   "metadata": {
    "collapsed": false,
    "pycharm": {
     "name": "#%%\n"
    }
   }
  },
  {
   "cell_type": "code",
   "execution_count": 8,
   "outputs": [
    {
     "data": {
      "text/plain": "(316071, 5)"
     },
     "execution_count": 8,
     "metadata": {},
     "output_type": "execute_result"
    }
   ],
   "source": [
    "new_dataframe.shape"
   ],
   "metadata": {
    "collapsed": false,
    "pycharm": {
     "name": "#%%\n"
    }
   }
  },
  {
   "cell_type": "code",
   "execution_count": 9,
   "outputs": [],
   "source": [
    "new_dataframe.to_csv(\"BasicData.csv\",index=False)"
   ],
   "metadata": {
    "collapsed": false,
    "pycharm": {
     "name": "#%%\n"
    }
   }
  },
  {
   "cell_type": "code",
   "execution_count": 10,
   "outputs": [
    {
     "name": "stdout",
     "output_type": "stream",
     "text": [
      "Number of unique genotypes: 1213\n"
     ]
    }
   ],
   "source": [
    "def count_unique_genotypes(df):\n",
    "    unique_genotypes = set()\n",
    "\n",
    "    for idx, row in df.iterrows():\n",
    "        genotypes = row['AMR genotypes'].split(', ')\n",
    "        unique_genotypes.update(genotypes)\n",
    "\n",
    "    return len(unique_genotypes)\n",
    "unique_genotype_count = count_unique_genotypes(new_dataframe)\n",
    "print(\"Number of unique genotypes:\", unique_genotype_count)\n"
   ],
   "metadata": {
    "collapsed": false,
    "pycharm": {
     "name": "#%%\n"
    }
   }
  },
  {
   "cell_type": "code",
   "execution_count": null,
   "outputs": [],
   "source": [],
   "metadata": {
    "collapsed": false,
    "pycharm": {
     "name": "#%%\n"
    }
   }
  }
 ],
 "metadata": {
  "kernelspec": {
   "display_name": "Python 3",
   "language": "python",
   "name": "python3"
  },
  "language_info": {
   "codemirror_mode": {
    "name": "ipython",
    "version": 2
   },
   "file_extension": ".py",
   "mimetype": "text/x-python",
   "name": "python",
   "nbconvert_exporter": "python",
   "pygments_lexer": "ipython2",
   "version": "2.7.6"
  }
 },
 "nbformat": 4,
 "nbformat_minor": 0
}